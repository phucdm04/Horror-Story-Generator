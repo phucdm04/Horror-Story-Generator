{
 "cells": [
  {
   "cell_type": "code",
   "execution_count": 1,
   "metadata": {},
   "outputs": [],
   "source": [
    "# !pip install transformers datasets torch torchvision torchaudio contractions"
   ]
  },
  {
   "cell_type": "code",
   "execution_count": 2,
   "metadata": {},
   "outputs": [],
   "source": [
    "text = \"Hello, my name is    John. I'm from the USA. This is my dog. He's a good boy.\"\n"
   ]
  },
  {
   "cell_type": "markdown",
   "metadata": {},
   "source": [
    "## __Preprocessing__\n"
   ]
  },
  {
   "cell_type": "markdown",
   "metadata": {},
   "source": [
    "Lower casing"
   ]
  },
  {
   "cell_type": "code",
   "execution_count": 3,
   "metadata": {},
   "outputs": [
    {
     "name": "stdout",
     "output_type": "stream",
     "text": [
      "Lower text: hello, my name is    john. i'm from the usa. this is my dog. he's a good boy.\n"
     ]
    }
   ],
   "source": [
    "lower_text = text.lower()\n",
    "print(f\"Lower text: {lower_text}\")"
   ]
  },
  {
   "cell_type": "markdown",
   "metadata": {},
   "source": [
    "Expanding contractions\n"
   ]
  },
  {
   "cell_type": "code",
   "execution_count": 4,
   "metadata": {},
   "outputs": [
    {
     "name": "stdout",
     "output_type": "stream",
     "text": [
      "Expanded text: hello, my name is    john. i am from the usa. this is my dog. he's a good boy.\n"
     ]
    }
   ],
   "source": [
    "# import random\n",
    "\n",
    "def expand_contractions(text: str) -> str:\n",
    "    # split \"'\"\n",
    "    text = text.replace(\"n't\", \" not\")\n",
    "    # elif \"'s\" in text:\n",
    "    #     random_number = random.randint(0, 1)\n",
    "    #     if random_number == 0:\n",
    "    #         return text.replace(\"'s\", \" is\")\n",
    "    #     return text.replace(\"'s\", \" has\")\n",
    "    text = text.replace(\"'re\", \" are\")\n",
    "    text = text.replace(\"'ve\", \" have\")\n",
    "    text = text.replace(\"'ll\", \" will\")\n",
    "    text = text.replace(\"'d\", \" would\")\n",
    "    text = text.replace(\"'m\", \" am\")\n",
    "    return text\n",
    "\n",
    "\n",
    "expanded_text = expand_contractions(lower_text)\n",
    "print(f\"Expanded text: {expanded_text}\")"
   ]
  },
  {
   "cell_type": "markdown",
   "metadata": {},
   "source": [
    "Removing special characters\n"
   ]
  },
  {
   "cell_type": "code",
   "execution_count": 5,
   "metadata": {},
   "outputs": [
    {
     "name": "stdout",
     "output_type": "stream",
     "text": [
      "Cleaned text: hello, my name is    john. i am from the usa. this is my dog. he's a good boy.\n"
     ]
    }
   ],
   "source": [
    "import re\n",
    "def remove_special_characters(text: str) -> str:\n",
    "    # remove special characters\n",
    "    text = re.sub(r\"[^A-Za-z0-9\\s'.,?!]+\", '', text)\n",
    "    return text\n",
    "\n",
    "cleaned_text = remove_special_characters(expanded_text)\n",
    "print(f\"Cleaned text: {cleaned_text}\")"
   ]
  },
  {
   "cell_type": "markdown",
   "metadata": {},
   "source": [
    "Removing extra spaces"
   ]
  },
  {
   "cell_type": "code",
   "execution_count": 6,
   "metadata": {},
   "outputs": [
    {
     "name": "stdout",
     "output_type": "stream",
     "text": [
      "Cleaned text: hello, my name is john. i am from the usa. this is my dog. he's a good boy.\n"
     ]
    }
   ],
   "source": [
    "def remove_extra_spaces(text: str) -> str:\n",
    "    # remove extra spaces\n",
    "    text = re.sub(r'\\s+', ' ', text)\n",
    "    return text\n",
    "\n",
    "cleaned_text = remove_extra_spaces(cleaned_text)\n",
    "print(f\"Cleaned text: {cleaned_text}\")"
   ]
  },
  {
   "cell_type": "markdown",
   "metadata": {},
   "source": [
    "## __Data Augmentation__"
   ]
  },
  {
   "cell_type": "code",
   "execution_count": null,
   "metadata": {},
   "outputs": [],
   "source": []
  }
 ],
 "metadata": {
  "kernelspec": {
   "display_name": "Python 3",
   "language": "python",
   "name": "python3"
  },
  "language_info": {
   "codemirror_mode": {
    "name": "ipython",
    "version": 3
   },
   "file_extension": ".py",
   "mimetype": "text/x-python",
   "name": "python",
   "nbconvert_exporter": "python",
   "pygments_lexer": "ipython3",
   "version": "3.11.6"
  }
 },
 "nbformat": 4,
 "nbformat_minor": 2
}
