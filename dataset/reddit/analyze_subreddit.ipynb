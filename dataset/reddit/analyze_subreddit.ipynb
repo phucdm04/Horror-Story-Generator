{
 "cells": [
  {
   "cell_type": "code",
   "execution_count": 1,
   "id": "4adda31c",
   "metadata": {},
   "outputs": [
    {
     "data": {
      "text/html": [
       "<div>\n",
       "<style scoped>\n",
       "    .dataframe tbody tr th:only-of-type {\n",
       "        vertical-align: middle;\n",
       "    }\n",
       "\n",
       "    .dataframe tbody tr th {\n",
       "        vertical-align: top;\n",
       "    }\n",
       "\n",
       "    .dataframe thead th {\n",
       "        text-align: right;\n",
       "    }\n",
       "</style>\n",
       "<table border=\"1\" class=\"dataframe\">\n",
       "  <thead>\n",
       "    <tr style=\"text-align: right;\">\n",
       "      <th></th>\n",
       "      <th>title</th>\n",
       "      <th>url</th>\n",
       "      <th>flair</th>\n",
       "      <th>author</th>\n",
       "      <th>content</th>\n",
       "      <th>subreddit</th>\n",
       "    </tr>\n",
       "  </thead>\n",
       "  <tbody>\n",
       "    <tr>\n",
       "      <th>0</th>\n",
       "      <td>Weird indecent</td>\n",
       "      <td>https://www.reddit.com/r/creepypasta/comments/...</td>\n",
       "      <td>Text Story</td>\n",
       "      <td>ILLdoggystyleYou</td>\n",
       "      <td>So me, my parents and my sister, live on a far...</td>\n",
       "      <td>creepypasta</td>\n",
       "    </tr>\n",
       "    <tr>\n",
       "      <th>1</th>\n",
       "      <td>CIA The No Sleep Experiment</td>\n",
       "      <td>https://www.reddit.com/r/creepypasta/comments/...</td>\n",
       "      <td>Text Story</td>\n",
       "      <td>313deezy</td>\n",
       "      <td>The room was silent except for the hum of mach...</td>\n",
       "      <td>creepypasta</td>\n",
       "    </tr>\n",
       "    <tr>\n",
       "      <th>2</th>\n",
       "      <td>The Ankle Slasher</td>\n",
       "      <td>https://www.reddit.com/r/creepypasta/comments/...</td>\n",
       "      <td>Text Story</td>\n",
       "      <td>Sealington33</td>\n",
       "      <td>So, it started about a month or so ago. I was ...</td>\n",
       "      <td>creepypasta</td>\n",
       "    </tr>\n",
       "    <tr>\n",
       "      <th>3</th>\n",
       "      <td>Stick Man Game</td>\n",
       "      <td>https://www.reddit.com/r/creepypasta/comments/...</td>\n",
       "      <td>Text Story</td>\n",
       "      <td>tturnttt</td>\n",
       "      <td>Past the last house at the end of the dead-end...</td>\n",
       "      <td>creepypasta</td>\n",
       "    </tr>\n",
       "    <tr>\n",
       "      <th>4</th>\n",
       "      <td>This is what took my mother so this is what i ...</td>\n",
       "      <td>https://www.reddit.com/r/creepypasta/comments/...</td>\n",
       "      <td>Text Story</td>\n",
       "      <td>Big-Jicama9039</td>\n",
       "      <td>\"the yzo\" or tiwtmmstiwib is e creature that h...</td>\n",
       "      <td>creepypasta</td>\n",
       "    </tr>\n",
       "  </tbody>\n",
       "</table>\n",
       "</div>"
      ],
      "text/plain": [
       "                                               title  \\\n",
       "0                                    Weird indecent    \n",
       "1                       CIA The No Sleep Experiment    \n",
       "2                                  The Ankle Slasher   \n",
       "3                                     Stick Man Game   \n",
       "4  This is what took my mother so this is what i ...   \n",
       "\n",
       "                                                 url       flair  \\\n",
       "0  https://www.reddit.com/r/creepypasta/comments/...  Text Story   \n",
       "1  https://www.reddit.com/r/creepypasta/comments/...  Text Story   \n",
       "2  https://www.reddit.com/r/creepypasta/comments/...  Text Story   \n",
       "3  https://www.reddit.com/r/creepypasta/comments/...  Text Story   \n",
       "4  https://www.reddit.com/r/creepypasta/comments/...  Text Story   \n",
       "\n",
       "             author                                            content  \\\n",
       "0  ILLdoggystyleYou  So me, my parents and my sister, live on a far...   \n",
       "1          313deezy  The room was silent except for the hum of mach...   \n",
       "2      Sealington33  So, it started about a month or so ago. I was ...   \n",
       "3          tturnttt  Past the last house at the end of the dead-end...   \n",
       "4    Big-Jicama9039  \"the yzo\" or tiwtmmstiwib is e creature that h...   \n",
       "\n",
       "     subreddit  \n",
       "0  creepypasta  \n",
       "1  creepypasta  \n",
       "2  creepypasta  \n",
       "3  creepypasta  \n",
       "4  creepypasta  "
      ]
     },
     "execution_count": 1,
     "metadata": {},
     "output_type": "execute_result"
    }
   ],
   "source": [
    "import pandas as pd\n",
    "\n",
    "dataset = pd.read_parquet('./reddit_dataset.parquet').T\n",
    "dataset.columns = [\"title\", \"url\", \"flair\", \"author\", \"content\", \"subreddit\"]\n",
    "dataset.head()"
   ]
  },
  {
   "cell_type": "markdown",
   "id": "8048fbaa",
   "metadata": {},
   "source": [
    "Filter series"
   ]
  },
  {
   "cell_type": "code",
   "execution_count": 2,
   "id": "440a2a18",
   "metadata": {},
   "outputs": [
    {
     "data": {
      "text/plain": [
       "is_series_part\n",
       "False    2084\n",
       "True      159\n",
       "Name: count, dtype: int64"
      ]
     },
     "execution_count": 2,
     "metadata": {},
     "output_type": "execute_result"
    }
   ],
   "source": [
    "import re\n",
    "\n",
    "def detect_series_part(text):\n",
    "    try:\n",
    "        pattern = r'\\b(?:part\\s+(?:\\d+|[ivxlc]+|one|two|three|four|five|six|seven|eight|nine|ten)|' \\\n",
    "                  r'(first|second|third|fourth|fifth|sixth|seventh|eighth|ninth|tenth|last|final)\\s+part)\\b'\n",
    "        match = re.search(pattern, text, re.IGNORECASE)\n",
    "        return True if match else False\n",
    "    except Exception as e:\n",
    "        return False\n",
    "\n",
    "dataset['is_series_part'] = dataset['title'].apply(detect_series_part)\n",
    "dataset['is_series_part'].value_counts()\n"
   ]
  },
  {
   "cell_type": "code",
   "execution_count": 3,
   "id": "cff21fc3",
   "metadata": {},
   "outputs": [],
   "source": [
    "subdataset = dataset[dataset['is_series_part'] == False].copy()\n",
    "subdataset = subdataset.drop(columns=['is_series_part', 'url', 'flair', 'author', 'subreddit'])"
   ]
  },
  {
   "cell_type": "markdown",
   "id": "155fd3c2",
   "metadata": {},
   "source": [
    "Concatenate title and content"
   ]
  },
  {
   "cell_type": "code",
   "execution_count": 4,
   "id": "f24fe72d",
   "metadata": {},
   "outputs": [
    {
     "data": {
      "text/html": [
       "<div>\n",
       "<style scoped>\n",
       "    .dataframe tbody tr th:only-of-type {\n",
       "        vertical-align: middle;\n",
       "    }\n",
       "\n",
       "    .dataframe tbody tr th {\n",
       "        vertical-align: top;\n",
       "    }\n",
       "\n",
       "    .dataframe thead th {\n",
       "        text-align: right;\n",
       "    }\n",
       "</style>\n",
       "<table border=\"1\" class=\"dataframe\">\n",
       "  <thead>\n",
       "    <tr style=\"text-align: right;\">\n",
       "      <th></th>\n",
       "      <th>title</th>\n",
       "      <th>content</th>\n",
       "      <th>text</th>\n",
       "    </tr>\n",
       "  </thead>\n",
       "  <tbody>\n",
       "    <tr>\n",
       "      <th>0</th>\n",
       "      <td>Title: Weird indecent</td>\n",
       "      <td>Content: So me, my parents and my sister, live...</td>\n",
       "      <td>Title: Weird indecent \\nContent: So me, my par...</td>\n",
       "    </tr>\n",
       "    <tr>\n",
       "      <th>1</th>\n",
       "      <td>Title: CIA The No Sleep Experiment</td>\n",
       "      <td>Content: The room was silent except for the hu...</td>\n",
       "      <td>Title: CIA The No Sleep Experiment \\nContent: ...</td>\n",
       "    </tr>\n",
       "    <tr>\n",
       "      <th>2</th>\n",
       "      <td>Title: The Ankle Slasher</td>\n",
       "      <td>Content: So, it started about a month or so ag...</td>\n",
       "      <td>Title: The Ankle Slasher\\nContent: So, it star...</td>\n",
       "    </tr>\n",
       "    <tr>\n",
       "      <th>3</th>\n",
       "      <td>Title: Stick Man Game</td>\n",
       "      <td>Content: Past the last house at the end of the...</td>\n",
       "      <td>Title: Stick Man Game\\nContent: Past the last ...</td>\n",
       "    </tr>\n",
       "    <tr>\n",
       "      <th>4</th>\n",
       "      <td>Title: This is what took my mother so this is ...</td>\n",
       "      <td>Content: \"the yzo\" or tiwtmmstiwib is e creatu...</td>\n",
       "      <td>Title: This is what took my mother so this is ...</td>\n",
       "    </tr>\n",
       "  </tbody>\n",
       "</table>\n",
       "</div>"
      ],
      "text/plain": [
       "                                               title  \\\n",
       "0                             Title: Weird indecent    \n",
       "1                Title: CIA The No Sleep Experiment    \n",
       "2                           Title: The Ankle Slasher   \n",
       "3                              Title: Stick Man Game   \n",
       "4  Title: This is what took my mother so this is ...   \n",
       "\n",
       "                                             content  \\\n",
       "0  Content: So me, my parents and my sister, live...   \n",
       "1  Content: The room was silent except for the hu...   \n",
       "2  Content: So, it started about a month or so ag...   \n",
       "3  Content: Past the last house at the end of the...   \n",
       "4  Content: \"the yzo\" or tiwtmmstiwib is e creatu...   \n",
       "\n",
       "                                                text  \n",
       "0  Title: Weird indecent \\nContent: So me, my par...  \n",
       "1  Title: CIA The No Sleep Experiment \\nContent: ...  \n",
       "2  Title: The Ankle Slasher\\nContent: So, it star...  \n",
       "3  Title: Stick Man Game\\nContent: Past the last ...  \n",
       "4  Title: This is what took my mother so this is ...  "
      ]
     },
     "execution_count": 4,
     "metadata": {},
     "output_type": "execute_result"
    }
   ],
   "source": [
    "subdataset['title'] = dataset['title'].apply(lambda x: \"Title: \" + x if type(x) is str else \"Title:\").copy()\n",
    "subdataset['content'] = dataset['content'].apply(lambda x: \"Content: \" + x if type(x) is str else \"Content:\").copy()\n",
    "subdataset['text'] = subdataset['title'] + \"\\n\" + subdataset['content']\n",
    "\n",
    "subdataset.head()"
   ]
  },
  {
   "cell_type": "code",
   "execution_count": 5,
   "id": "1e63696f",
   "metadata": {},
   "outputs": [],
   "source": [
    "# from transformers import GPT2Tokenizer, GPTNeoForCausalLM\n",
    "# import torch\n",
    "# tokenizer = GPT2Tokenizer.from_pretrained(\"EleutherAI/gpt-neo-1.3B\")\n",
    "\n",
    "# def count_tokens(text, tokenizer):\n",
    "#     tokens = tokenizer.encode(text)\n",
    "#     return len(tokens)\n",
    "\n",
    "# subdataset['num_tokens'] = subdataset['text'].apply(lambda x: count_tokens(x, tokenizer))"
   ]
  },
  {
   "cell_type": "code",
   "execution_count": 6,
   "id": "6c81b336",
   "metadata": {},
   "outputs": [],
   "source": [
    "# import matplotlib.pyplot as plt\n",
    "# subdataset['num_tokens'].hist(bins=100)\n",
    "# plt.title('Token Count Distribution')\n",
    "# plt.show()"
   ]
  },
  {
   "cell_type": "code",
   "execution_count": 9,
   "id": "53db9c89",
   "metadata": {},
   "outputs": [],
   "source": [
    "text = subdataset[\"text\"].tolist()\n",
    "import pickle\n",
    "with open(\"reddit_dataset.pkl\", \"wb\") as f:\n",
    "    pickle.dump(text, f)"
   ]
  },
  {
   "cell_type": "code",
   "execution_count": null,
   "id": "6fe6cec0",
   "metadata": {},
   "outputs": [],
   "source": []
  }
 ],
 "metadata": {
  "kernelspec": {
   "display_name": "gen_env",
   "language": "python",
   "name": "python3"
  },
  "language_info": {
   "codemirror_mode": {
    "name": "ipython",
    "version": 3
   },
   "file_extension": ".py",
   "mimetype": "text/x-python",
   "name": "python",
   "nbconvert_exporter": "python",
   "pygments_lexer": "ipython3",
   "version": "3.11.6"
  }
 },
 "nbformat": 4,
 "nbformat_minor": 5
}
