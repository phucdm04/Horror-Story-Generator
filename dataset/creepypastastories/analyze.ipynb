{
 "cells": [
  {
   "cell_type": "code",
   "execution_count": 1,
   "id": "5f3b235f",
   "metadata": {},
   "outputs": [],
   "source": [
    "import pandas as pd"
   ]
  },
  {
   "cell_type": "code",
   "execution_count": 2,
   "id": "5ea4dabb",
   "metadata": {},
   "outputs": [],
   "source": [
    "dataset = pd.read_json(\"./web_dataset.json\")"
   ]
  },
  {
   "cell_type": "markdown",
   "id": "033533ff",
   "metadata": {},
   "source": [
    "Concanate title and content"
   ]
  },
  {
   "cell_type": "code",
   "execution_count": 10,
   "id": "21a03a00",
   "metadata": {},
   "outputs": [],
   "source": [
    "subdataset = dataset.loc[:, [\"titles\", \"contents\"]].copy()\n",
    "subdataset[\"text\"] = \"Title: \"+ subdataset[\"titles\"].astype(str) + \" \\nContent:\" + subdataset[\"contents\"].astype(str)\n"
   ]
  },
  {
   "cell_type": "code",
   "execution_count": 11,
   "id": "18f09cfc",
   "metadata": {},
   "outputs": [
    {
     "name": "stderr",
     "output_type": "stream",
     "text": [
      "Token indices sequence length is longer than the specified maximum sequence length for this model (9078 > 2048). Running this sequence through the model will result in indexing errors\n"
     ]
    }
   ],
   "source": [
    "# from transformers import GPT2Tokenizer, GPTNeoForCausalLM\n",
    "# import torch\n",
    "# tokenizer = GPT2Tokenizer.from_pretrained(\"EleutherAI/gpt-neo-1.3B\")\n",
    "\n",
    "# def count_tokens(text, tokenizer):\n",
    "#     tokens = tokenizer.encode(text)\n",
    "#     return len(tokens)\n",
    "\n",
    "# subdataset['num_tokens'] = subdataset['text'].apply(lambda x: count_tokens(x, tokenizer))"
   ]
  },
  {
   "cell_type": "code",
   "execution_count": 14,
   "id": "dd9404df",
   "metadata": {},
   "outputs": [],
   "source": [
    "text = subdataset[\"text\"].tolist()\n",
    "import pickle\n",
    "with open(\"web_text.pkl\", \"wb\") as f:\n",
    "    pickle.dump(text, f)"
   ]
  },
  {
   "cell_type": "code",
   "execution_count": null,
   "id": "80063383",
   "metadata": {},
   "outputs": [],
   "source": []
  },
  {
   "cell_type": "code",
   "execution_count": null,
   "id": "90bc0416",
   "metadata": {},
   "outputs": [],
   "source": []
  }
 ],
 "metadata": {
  "kernelspec": {
   "display_name": "gen_env",
   "language": "python",
   "name": "python3"
  },
  "language_info": {
   "codemirror_mode": {
    "name": "ipython",
    "version": 3
   },
   "file_extension": ".py",
   "mimetype": "text/x-python",
   "name": "python",
   "nbconvert_exporter": "python",
   "pygments_lexer": "ipython3",
   "version": "3.11.6"
  }
 },
 "nbformat": 4,
 "nbformat_minor": 5
}
