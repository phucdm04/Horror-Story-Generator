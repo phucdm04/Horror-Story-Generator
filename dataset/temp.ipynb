{
 "cells": [
  {
   "cell_type": "code",
   "execution_count": null,
   "id": "326627a4",
   "metadata": {},
   "outputs": [],
   "source": [
    "import pickle\n",
    "from torch.utils.data import TensorDataset, DataLoader\n",
    "\n",
    "\n",
    "from transformers import GPT2Tokenizer\n",
    "import torch\n",
    "\n",
    "tokenizer = GPT2Tokenizer.from_pretrained(\"EleutherAI/gpt-neo-1.3B\")\n",
    "tokenizer.pad_token = tokenizer.eos_token\n",
    "\n",
    "def merge_datasets(path1: str = './dataset/creepypastastories/web_text.pkl', \n",
    "                   path2: str = './dataset/reddit/reddit_dataset.pkl') -> list:\n",
    "    \"\"\"\n",
    "    Merges two datasets by concatenating their contents.\n",
    "    \"\"\"\n",
    "    with open(path1, 'rb') as f:\n",
    "        dataset1 = pickle.load(f)\n",
    "    with open(path2, 'rb') as f:\n",
    "        dataset2 = pickle.load(f)\n",
    "\n",
    "    merged_dataset = dataset1 + dataset2\n",
    "\n",
    "    return merged_dataset\n",
    "\n",
    "\n",
    "dataset = merge_datasets('./creepypastastories/web_text.pkl', './reddit/reddit_dataset.pkl')"
   ]
  },
  {
   "cell_type": "code",
   "execution_count": 28,
   "id": "3bb44ca9",
   "metadata": {},
   "outputs": [],
   "source": [
    "def split_dataset(dataset: list, train_ratio: float = 0.8, test_ratio:float = 0.1) -> tuple:\n",
    "    \"\"\"\n",
    "    Splits the dataset into training, validation, and test sets.\n",
    "    \"\"\"\n",
    "    import random\n",
    "    if train_ratio + test_ratio >= 1.0:\n",
    "        raise ValueError(\"train_ratio and test_ratio must sum to less than 1.0\")\n",
    "\n",
    "    random.shuffle(dataset)\n",
    "    \n",
    "    train_index = int(len(dataset) * train_ratio)\n",
    "    test_index = int(len(dataset) * (train_ratio + test_ratio))\n",
    "\n",
    "    train_set = dataset[:train_index]\n",
    "    test_set = dataset[train_index:test_index]\n",
    "    val_set = dataset[test_index:]\n",
    "\n",
    "    return train_set, val_set, test_set\n",
    "\n",
    "train_set, val_set, test_set = split_dataset(dataset)"
   ]
  },
  {
   "cell_type": "code",
   "execution_count": 29,
   "id": "2ae934d3",
   "metadata": {},
   "outputs": [],
   "source": [
    "def chunk_dataset(dataset: list, chunk_size: int = 512) -> list:\n",
    "    \"\"\"\n",
    "    Chunks the dataset into smaller pieces of specified size.\n",
    "    \"\"\"\n",
    "    tokenized_dataset = []\n",
    "    for text in dataset:\n",
    "        tokens = tokenizer.encode(text)\n",
    "        for i in range(0, len(tokens), chunk_size):\n",
    "            tokenized_dataset.append(tokens[i:i + chunk_size])\n",
    "\n",
    "    # Padding \n",
    "    for i, data in enumerate(tokenized_dataset):\n",
    "        if len(data) < chunk_size:\n",
    "            tokenized_dataset[i] = data + [tokenizer.pad_token_id] * (chunk_size - len(data))\n",
    "        else:\n",
    "            tokenized_dataset[i] = data[:chunk_size]\n",
    "    return tokenized_dataset\n",
    "\n",
    "\n",
    "tokenized_train_set = chunk_dataset(train_set, chunk_size=2048)\n",
    "tokenized_val_set = chunk_dataset(val_set, chunk_size=2048)\n",
    "tokenized_test_set = chunk_dataset(test_set, chunk_size=2048)"
   ]
  },
  {
   "cell_type": "code",
   "execution_count": 31,
   "id": "a736d409",
   "metadata": {},
   "outputs": [
    {
     "data": {
      "text/plain": [
       "<torch.utils.data.dataloader.DataLoader at 0x20a4c94e110>"
      ]
     },
     "execution_count": 31,
     "metadata": {},
     "output_type": "execute_result"
    }
   ],
   "source": [
    "def create_loader(dataset: list, batch_size = 2, saving_path = None) -> DataLoader:\n",
    "    tensor = torch.tensor(dataset)\n",
    "    tensor_dataset = TensorDataset(tensor)\n",
    "\n",
    "    if saving_path is not None:\n",
    "        with open(saving_path, 'wb') as f:\n",
    "            pickle.dump(tensor_dataset, f)\n",
    "            \n",
    "    return DataLoader(tensor_dataset, batch_size=batch_size, shuffle=True)\n",
    "\n",
    "create_loader(tokenized_train_set, batch_size=2, saving_path='./input/train_loader.pkl')\n",
    "create_loader(tokenized_val_set, batch_size=2, saving_path='./input/val_loader.pkl')\n",
    "create_loader(tokenized_test_set, batch_size=2, saving_path='./input/test_loader.pkl')"
   ]
  },
  {
   "cell_type": "code",
   "execution_count": null,
   "id": "ee1e574d",
   "metadata": {},
   "outputs": [],
   "source": []
  }
 ],
 "metadata": {
  "kernelspec": {
   "display_name": "gen_env",
   "language": "python",
   "name": "python3"
  },
  "language_info": {
   "codemirror_mode": {
    "name": "ipython",
    "version": 3
   },
   "file_extension": ".py",
   "mimetype": "text/x-python",
   "name": "python",
   "nbconvert_exporter": "python",
   "pygments_lexer": "ipython3",
   "version": "3.11.6"
  }
 },
 "nbformat": 4,
 "nbformat_minor": 5
}
