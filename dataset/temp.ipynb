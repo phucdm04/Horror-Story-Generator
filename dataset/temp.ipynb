{
 "cells": [
  {
   "cell_type": "code",
   "execution_count": 38,
   "id": "055dc7af",
   "metadata": {},
   "outputs": [
    {
     "name": "stderr",
     "output_type": "stream",
     "text": [
      "C:\\Users\\dangm\\AppData\\Local\\Temp\\ipykernel_14140\\2135765595.py:23: SettingWithCopyWarning: \n",
      "A value is trying to be set on a copy of a slice from a DataFrame\n",
      "\n",
      "See the caveats in the documentation: https://pandas.pydata.org/pandas-docs/stable/user_guide/indexing.html#returning-a-view-versus-a-copy\n",
      "  new_df.drop(columns=[\"url\"], inplace=True)\n"
     ]
    }
   ],
   "source": [
    "import pandas as pd\n",
    "\n",
    "\n",
    "subreddit = \"nosleep\"\n",
    "oldpath = f'./reddit/{subreddit}_2024_09_30.json'\n",
    "data = pd.read_json(oldpath)\n",
    "\n",
    "def clean_data(df):\n",
    "    def get_flair(flair_richtext):\n",
    "        import ast\n",
    "        flair = ast.literal_eval(flair_richtext)\n",
    "        return flair[0]['t']\n",
    "\n",
    "    df = df.copy()\n",
    "    remain_col = [\"title\", \"link_flair_richtext\", \"author\", \"url\", \"selftext\"]\n",
    "    new_df = df[remain_col]\n",
    "    # new_df[\"link_flair_richtext\"] = new_df[\"link_flair_richtext\"].apply(get_flair)\n",
    "    \n",
    "\n",
    "    new_df.columns = [\"title\", \"flair\", \"author\", \"url\", \"selftext\"]\n",
    "\n",
    "    url = new_df[\"url\"]\n",
    "    new_df.drop(columns=[\"url\"], inplace=True)\n",
    "    new_df.insert(1, \"url\", url)\n",
    "\n",
    "    return new_df\n",
    "new_data = clean_data(data)\n",
    "new_data.to_json(oldpath, orient='records', lines=True, force_ascii=False)"
   ]
  },
  {
   "cell_type": "markdown",
   "id": "83941205",
   "metadata": {},
   "source": [
    "`title` \n",
    "`link_flair_richtext`\n",
    "`author`\n",
    "`url`\n",
    "`selftext`"
   ]
  },
  {
   "cell_type": "code",
   "execution_count": 35,
   "id": "e8768f56",
   "metadata": {},
   "outputs": [
    {
     "name": "stdout",
     "output_type": "stream",
     "text": [
      "approved_at_utc\n",
      "subreddit\n",
      "selftext\n",
      "author_fullname\n",
      "saved\n",
      "mod_reason_title\n",
      "gilded\n",
      "clicked\n",
      "title\n",
      "link_flair_richtext\n",
      "subreddit_name_prefixed\n",
      "hidden\n",
      "pwls\n",
      "link_flair_css_class\n",
      "downs\n",
      "thumbnail_height\n",
      "top_awarded_type\n",
      "hide_score\n",
      "name\n",
      "quarantine\n",
      "link_flair_text_color\n",
      "upvote_ratio\n",
      "author_flair_background_color\n",
      "subreddit_type\n",
      "ups\n",
      "total_awards_received\n",
      "media_embed\n",
      "thumbnail_width\n",
      "author_flair_template_id\n",
      "is_original_content\n",
      "user_reports\n",
      "secure_media\n",
      "is_reddit_media_domain\n",
      "is_meta\n",
      "category\n",
      "secure_media_embed\n",
      "link_flair_text\n",
      "can_mod_post\n",
      "score\n",
      "approved_by\n",
      "is_created_from_ads_ui\n",
      "author_premium\n",
      "thumbnail\n",
      "edited\n",
      "author_flair_css_class\n",
      "author_flair_richtext\n",
      "gildings\n",
      "content_categories\n",
      "is_self\n",
      "mod_note\n",
      "created\n",
      "link_flair_type\n",
      "wls\n",
      "removed_by_category\n",
      "banned_by\n",
      "author_flair_type\n",
      "domain\n",
      "allow_live_comments\n",
      "selftext_html\n",
      "likes\n",
      "suggested_sort\n",
      "banned_at_utc\n",
      "url_overridden_by_dest\n",
      "view_count\n",
      "archived\n",
      "no_follow\n",
      "is_crosspostable\n",
      "pinned\n",
      "over_18\n",
      "all_awardings\n",
      "awarders\n",
      "media_only\n",
      "link_flair_template_id\n",
      "can_gild\n",
      "spoiler\n",
      "locked\n",
      "author_flair_text\n",
      "treatment_tags\n",
      "visited\n",
      "removed_by\n",
      "num_reports\n",
      "distinguished\n",
      "subreddit_id\n",
      "author_is_blocked\n",
      "mod_reason_by\n",
      "removal_reason\n",
      "link_flair_background_color\n",
      "id\n",
      "is_robot_indexable\n",
      "report_reasons\n",
      "author\n",
      "discussion_type\n",
      "num_comments\n",
      "send_replies\n",
      "whitelist_status\n",
      "contest_mode\n",
      "mod_reports\n",
      "author_patreon_flair\n",
      "author_flair_text_color\n",
      "permalink\n",
      "parent_whitelist_status\n",
      "stickied\n",
      "url\n",
      "subreddit_subscribers\n",
      "created_utc\n",
      "num_crossposts\n",
      "media\n",
      "is_video\n",
      "post_hint\n",
      "preview\n",
      "author_cakeday\n",
      "media_metadata\n"
     ]
    }
   ],
   "source": [
    "for col in data.columns:\n",
    "        print(col)"
   ]
  },
  {
   "cell_type": "code",
   "execution_count": 33,
   "id": "1dc7f47e",
   "metadata": {},
   "outputs": [
    {
     "data": {
      "text/plain": [
       "'https://www.reddit.com/r/creepypasta/comments/1dctbhv/post_creepy_images_on_reyescream_our_new_subreddit/'"
      ]
     },
     "execution_count": 33,
     "metadata": {},
     "output_type": "execute_result"
    }
   ],
   "source": [
    "data['url'][1]"
   ]
  },
  {
   "cell_type": "code",
   "execution_count": 36,
   "id": "b313e20b",
   "metadata": {},
   "outputs": [
    {
     "data": {
      "text/plain": [
       "0                                                    NaN\n",
       "1      Hi, Pasta Aficionados!\\n\\nLet's talk about r/E...\n",
       "2      So me, my parents and my sister, live on a far...\n",
       "3                         read it for the first time. :(\n",
       "4      Looking for a longer story, not too long with ...\n",
       "                             ...                        \n",
       "960    In the early 90's a close childhood friend of ...\n",
       "961    I remember years ago Red Mist being a similar ...\n",
       "962    I don’t know why I took the detour that night....\n",
       "963    \\n\\n“Attention, teachers and students, recess ...\n",
       "964    I lost my old phone and along with it a video ...\n",
       "Name: selftext, Length: 965, dtype: object"
      ]
     },
     "execution_count": 36,
     "metadata": {},
     "output_type": "execute_result"
    }
   ],
   "source": [
    "data['selftext']"
   ]
  },
  {
   "cell_type": "code",
   "execution_count": null,
   "id": "f49e0342",
   "metadata": {},
   "outputs": [],
   "source": []
  }
 ],
 "metadata": {
  "kernelspec": {
   "display_name": "gen_env",
   "language": "python",
   "name": "python3"
  },
  "language_info": {
   "codemirror_mode": {
    "name": "ipython",
    "version": 3
   },
   "file_extension": ".py",
   "mimetype": "text/x-python",
   "name": "python",
   "nbconvert_exporter": "python",
   "pygments_lexer": "ipython3",
   "version": "3.11.6"
  }
 },
 "nbformat": 4,
 "nbformat_minor": 5
}
