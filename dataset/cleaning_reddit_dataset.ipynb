{
 "cells": [
  {
   "cell_type": "code",
   "execution_count": 14,
   "id": "7f3b3da6",
   "metadata": {},
   "outputs": [
    {
     "data": {
      "text/html": [
       "<div>\n",
       "<style scoped>\n",
       "    .dataframe tbody tr th:only-of-type {\n",
       "        vertical-align: middle;\n",
       "    }\n",
       "\n",
       "    .dataframe tbody tr th {\n",
       "        vertical-align: top;\n",
       "    }\n",
       "\n",
       "    .dataframe thead th {\n",
       "        text-align: right;\n",
       "    }\n",
       "</style>\n",
       "<table border=\"1\" class=\"dataframe\">\n",
       "  <thead>\n",
       "    <tr style=\"text-align: right;\">\n",
       "      <th></th>\n",
       "      <th>title</th>\n",
       "      <th>url</th>\n",
       "      <th>flair</th>\n",
       "      <th>author</th>\n",
       "      <th>selftext</th>\n",
       "    </tr>\n",
       "  </thead>\n",
       "  <tbody>\n",
       "    <tr>\n",
       "      <th>0</th>\n",
       "      <td>Get Your Horror Story Read and Aired on Sirius...</td>\n",
       "      <td>/r/NoSleepOOC/comments/1ftq8zf/get_your_horror...</td>\n",
       "      <td></td>\n",
       "      <td>LanesGrandma</td>\n",
       "      <td>None</td>\n",
       "    </tr>\n",
       "    <tr>\n",
       "      <th>1</th>\n",
       "      <td>How to Survive College - a story about the rain</td>\n",
       "      <td>https://www.reddit.com/r/nosleep/comments/1fx7...</td>\n",
       "      <td></td>\n",
       "      <td>fainting--goat</td>\n",
       "      <td>[Previous Posts](https://www.reddit.com/r/goat...</td>\n",
       "    </tr>\n",
       "    <tr>\n",
       "      <th>2</th>\n",
       "      <td>I live in a town that doesn't let anyone leave.</td>\n",
       "      <td>https://www.reddit.com/r/nosleep/comments/1fwv...</td>\n",
       "      <td></td>\n",
       "      <td>Roos85</td>\n",
       "      <td>Listen closely, because this isn’t a story. It...</td>\n",
       "    </tr>\n",
       "    <tr>\n",
       "      <th>3</th>\n",
       "      <td>My Answer to \"What's the Worst Thing You've Ev...</td>\n",
       "      <td>https://www.reddit.com/r/nosleep/comments/1fwy...</td>\n",
       "      <td></td>\n",
       "      <td>Tehfiddlers</td>\n",
       "      <td>I’m a nurse – I tell a lot of stories to curio...</td>\n",
       "    </tr>\n",
       "    <tr>\n",
       "      <th>4</th>\n",
       "      <td>The Broadcast Told Us to Lock Everything. I Sh...</td>\n",
       "      <td>https://www.reddit.com/r/nosleep/comments/1fx8...</td>\n",
       "      <td></td>\n",
       "      <td>Turbulent_Ad1941</td>\n",
       "      <td>I woke up in puzzlement as my daughter jumped ...</td>\n",
       "    </tr>\n",
       "    <tr>\n",
       "      <th>...</th>\n",
       "      <td>...</td>\n",
       "      <td>...</td>\n",
       "      <td>...</td>\n",
       "      <td>...</td>\n",
       "      <td>...</td>\n",
       "    </tr>\n",
       "    <tr>\n",
       "      <th>949</th>\n",
       "      <td>Any bug experts PLEASE read this.</td>\n",
       "      <td>https://www.reddit.com/r/nosleep/comments/1e9l...</td>\n",
       "      <td></td>\n",
       "      <td>luvley_dxrianw</td>\n",
       "      <td>Okay, I don’t know what it was I saw, but I’m ...</td>\n",
       "    </tr>\n",
       "    <tr>\n",
       "      <th>950</th>\n",
       "      <td>When I Was A Kid Something Appeared in My Back...</td>\n",
       "      <td>https://www.reddit.com/r/nosleep/comments/1e9l...</td>\n",
       "      <td></td>\n",
       "      <td>deadnspread</td>\n",
       "      <td>I’m not young. \\n\\nI’m not exactly old either....</td>\n",
       "    </tr>\n",
       "    <tr>\n",
       "      <th>951</th>\n",
       "      <td>The Born Tapes - My life has been changed forever</td>\n",
       "      <td>https://www.reddit.com/r/nosleep/comments/1e9j...</td>\n",
       "      <td></td>\n",
       "      <td>Pure-War-3796</td>\n",
       "      <td>I used to have nightmares when I was younger. ...</td>\n",
       "    </tr>\n",
       "    <tr>\n",
       "      <th>952</th>\n",
       "      <td>My Husband Was Coming Home Every Night Looking...</td>\n",
       "      <td>https://www.reddit.com/r/nosleep/comments/1e9j...</td>\n",
       "      <td></td>\n",
       "      <td>Roos85</td>\n",
       "      <td>At first, it was a small bruise on his cheek. ...</td>\n",
       "    </tr>\n",
       "    <tr>\n",
       "      <th>953</th>\n",
       "      <td>Greetings from Blackwater Cove..</td>\n",
       "      <td>https://www.reddit.com/r/nosleep/comments/1e9j...</td>\n",
       "      <td></td>\n",
       "      <td>SocietysMenaceCC</td>\n",
       "      <td>\\nThe salt-laden wind whipped through the narr...</td>\n",
       "    </tr>\n",
       "  </tbody>\n",
       "</table>\n",
       "<p>954 rows × 5 columns</p>\n",
       "</div>"
      ],
      "text/plain": [
       "                                                 title  \\\n",
       "0    Get Your Horror Story Read and Aired on Sirius...   \n",
       "1      How to Survive College - a story about the rain   \n",
       "2     I live in a town that doesn't let anyone leave.    \n",
       "3    My Answer to \"What's the Worst Thing You've Ev...   \n",
       "4    The Broadcast Told Us to Lock Everything. I Sh...   \n",
       "..                                                 ...   \n",
       "949                  Any bug experts PLEASE read this.   \n",
       "950  When I Was A Kid Something Appeared in My Back...   \n",
       "951  The Born Tapes - My life has been changed forever   \n",
       "952  My Husband Was Coming Home Every Night Looking...   \n",
       "953                   Greetings from Blackwater Cove..   \n",
       "\n",
       "                                                   url flair  \\\n",
       "0    /r/NoSleepOOC/comments/1ftq8zf/get_your_horror...         \n",
       "1    https://www.reddit.com/r/nosleep/comments/1fx7...         \n",
       "2    https://www.reddit.com/r/nosleep/comments/1fwv...         \n",
       "3    https://www.reddit.com/r/nosleep/comments/1fwy...         \n",
       "4    https://www.reddit.com/r/nosleep/comments/1fx8...         \n",
       "..                                                 ...   ...   \n",
       "949  https://www.reddit.com/r/nosleep/comments/1e9l...         \n",
       "950  https://www.reddit.com/r/nosleep/comments/1e9l...         \n",
       "951  https://www.reddit.com/r/nosleep/comments/1e9j...         \n",
       "952  https://www.reddit.com/r/nosleep/comments/1e9j...         \n",
       "953  https://www.reddit.com/r/nosleep/comments/1e9j...         \n",
       "\n",
       "               author                                           selftext  \n",
       "0        LanesGrandma                                               None  \n",
       "1      fainting--goat  [Previous Posts](https://www.reddit.com/r/goat...  \n",
       "2              Roos85  Listen closely, because this isn’t a story. It...  \n",
       "3         Tehfiddlers  I’m a nurse – I tell a lot of stories to curio...  \n",
       "4    Turbulent_Ad1941  I woke up in puzzlement as my daughter jumped ...  \n",
       "..                ...                                                ...  \n",
       "949    luvley_dxrianw  Okay, I don’t know what it was I saw, but I’m ...  \n",
       "950       deadnspread  I’m not young. \\n\\nI’m not exactly old either....  \n",
       "951     Pure-War-3796  I used to have nightmares when I was younger. ...  \n",
       "952            Roos85  At first, it was a small bruise on his cheek. ...  \n",
       "953  SocietysMenaceCC  \\nThe salt-laden wind whipped through the narr...  \n",
       "\n",
       "[954 rows x 5 columns]"
      ]
     },
     "execution_count": 14,
     "metadata": {},
     "output_type": "execute_result"
    }
   ],
   "source": [
    "import pandas as pd\n",
    "import numpy as np\n",
    "import os\n",
    "\n",
    "path = \"./reddit/nosleep_2024_10_06.json\"\n",
    "df = pd.read_json(path, lines=True)\n",
    "df"
   ]
  },
  {
   "cell_type": "code",
   "execution_count": 15,
   "id": "6407cb4f",
   "metadata": {},
   "outputs": [
    {
     "data": {
      "text/plain": [
       "flair\n",
       "    954\n",
       "Name: count, dtype: int64"
      ]
     },
     "execution_count": 15,
     "metadata": {},
     "output_type": "execute_result"
    }
   ],
   "source": [
    "df[\"flair\"].value_counts()"
   ]
  },
  {
   "cell_type": "markdown",
   "id": "c7d24986",
   "metadata": {},
   "source": [
    "Text Story"
   ]
  },
  {
   "cell_type": "code",
   "execution_count": 12,
   "id": "58c475b2",
   "metadata": {},
   "outputs": [
    {
     "data": {
      "text/plain": [
       "array(['https://www.reddit.com/r/shortscarystories/comments/q6cw0j/rules_of_the_subreddit_please_read_before_posting/',\n",
       "       'https://www.reddit.com/r/shortscarystories/comments/1fsuphb/my_wife_was_killed_over_a_worthless_piece_of/',\n",
       "       'https://www.reddit.com/r/shortscarystories/comments/1ft73gv/my_fathers_memory_has_been_failing_him_but_theres/',\n",
       "       'https://www.reddit.com/r/shortscarystories/comments/1fsyo4j/if_i_never_ask/',\n",
       "       'https://www.reddit.com/r/shortscarystories/comments/1ft275u/my_mother_is_a_poet_and_i_didnt_know_it/'],\n",
       "      dtype=object)"
      ]
     },
     "execution_count": 12,
     "metadata": {},
     "output_type": "execute_result"
    }
   ],
   "source": [
    "df.head(5)[\"url\"].values"
   ]
  },
  {
   "cell_type": "code",
   "execution_count": null,
   "id": "f9800e0b",
   "metadata": {},
   "outputs": [],
   "source": []
  }
 ],
 "metadata": {
  "kernelspec": {
   "display_name": "gen_env",
   "language": "python",
   "name": "python3"
  },
  "language_info": {
   "codemirror_mode": {
    "name": "ipython",
    "version": 3
   },
   "file_extension": ".py",
   "mimetype": "text/x-python",
   "name": "python",
   "nbconvert_exporter": "python",
   "pygments_lexer": "ipython3",
   "version": "3.11.6"
  }
 },
 "nbformat": 4,
 "nbformat_minor": 5
}
